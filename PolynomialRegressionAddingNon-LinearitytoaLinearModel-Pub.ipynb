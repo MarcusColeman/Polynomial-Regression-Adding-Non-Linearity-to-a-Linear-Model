{
 "cells": [
  {
   "cell_type": "markdown",
   "metadata": {},
   "source": [
    "# Polynomial Regression: Adding Non-Linearity to a Linear Model"
   ]
  },
  {
   "cell_type": "markdown",
   "metadata": {},
   "source": [
    "In this post we're going to learn how we can address a key concern of linear models, the assumption of linearity. We'll take a look at Linear Regression, a foundational statistical learning technique, learn what's happening under the hood of the model,some things that we want to be aware of, and then learn more about some of the weaknesses of the model. We'll then introduce the idea of polynomial regression as being a solution to a key weakness of linear models, namely Linear Regression in this post."
   ]
  },
  {
   "cell_type": "markdown",
   "metadata": {},
   "source": [
    "# Let's Review Linear Regression"
   ]
  },
  {
   "cell_type": "markdown",
   "metadata": {},
   "source": [
    "Linear Regression is a machine learning technique that allows us to associate one or more explanatory variables with an independent variable, or response. In Linear Regression, we desire to predict an actual numerical response."
   ]
  },
  {
   "cell_type": "markdown",
   "metadata": {},
   "source": [
    "As in all machine learning models, we are trying to approximate $\\large f(x)$, or the function that accurately describes the relationship between our independent and dependent variables. In parametric models we save some time by making some assumptions about the structure of our function, $\\large f(x)$. In Linear Regression, we assume that $\\large f(x)$, is linear."
   ]
  },
  {
   "cell_type": "markdown",
   "metadata": {},
   "source": [
    "You may recall from algebra that the equation for a line is $\\large y=mx+b$, where $\\large y$ is our response, $\\large m$ is the slope, or derivative in calculus terms, and $\\large b$, is our intercept, or the value of $\\large y$ when $\\large x$, or our explanatory variable is equal to $\\large 0$."
   ]
  },
  {
   "cell_type": "markdown",
   "metadata": {},
   "source": [
    "The Simple Linear Regression equation is below:"
   ]
  },
  {
   "cell_type": "markdown",
   "metadata": {},
   "source": [
    "$$ \\LARGE y= B_0 + B{_i}x_i + E_i  $$"
   ]
  },
  {
   "cell_type": "markdown",
   "metadata": {},
   "source": [
    "Here the coefficients of the line simply take a different form and we add an error term, $\\large E_i$. The error term accounts for noise that we can't model, or randomness."
   ]
  },
  {
   "cell_type": "markdown",
   "metadata": {},
   "source": [
    "Though libraries and packages make our lives easier by abstracting away a lot of the computations, there's quite a few things happening when we build a Linear Regression model. Our objective is to approximate our coefficients, $\\large B_0$, or our intercept, and $\\large B_1$, our slope."
   ]
  },
  {
   "cell_type": "markdown",
   "metadata": {},
   "source": [
    "Once we have values for our coefficients, we can then plug them into our linear equation so that we can predict the value of our response given some value for $\\large X$. But how do we find these coefficients?"
   ]
  },
  {
   "cell_type": "markdown",
   "metadata": {},
   "source": [
    "The equation for our slope or $\\large B_1$ is below:"
   ]
  },
  {
   "cell_type": "markdown",
   "metadata": {},
   "source": [
    "$$ \\LARGE B_1={\\sum_{i=1}^N (y_i-Y)(x_i-X) \\over \\sum_{i=1}^N (x_i-X)^2} $$ \n"
   ]
  },
  {
   "cell_type": "markdown",
   "metadata": {},
   "source": [
    "where $\\large Y$ (i.e. uppercase Y), is the mu of $\\large y$, and $\\large X$, is the mu of $\\large x$."
   ]
  },
  {
   "cell_type": "markdown",
   "metadata": {},
   "source": [
    "The equation for our intercept $\\large B_0$ is below:\n"
   ]
  },
  {
   "cell_type": "markdown",
   "metadata": {},
   "source": [
    "$$ \\LARGE B_0={Y-B{_1}X}$$"
   ]
  },
  {
   "cell_type": "markdown",
   "metadata": {},
   "source": [
    "where $\\large Y$ is the mu of $\\large y$, $\\large B_1$, is our predicted slope, and $\\large X$, is the mu of our explanatory variable."
   ]
  },
  {
   "cell_type": "markdown",
   "metadata": {},
   "source": [
    "These computations are done for us when using libraries and packages in R and Python."
   ]
  },
  {
   "cell_type": "markdown",
   "metadata": {},
   "source": [
    "As usual, a key question that we have when developing our model is whether or not our observation is analogous to the entire population. In other words, does this sample actually represent the total population or is what we've observed purely random. This is where our statistical hypothesis testing skills come in. The test statistic for simple linear regression is below:"
   ]
  },
  {
   "cell_type": "markdown",
   "metadata": {},
   "source": [
    "$$\\LARGE t={B_1-0 \\over SE(B_1)}$$"
   ]
  },
  {
   "cell_type": "markdown",
   "metadata": {},
   "source": [
    "Regression assumes that there exists some relationship between our $\\large x$ and $\\large y$ variables. So our null hypothesis for our hypothesis test or our $\\large H_0$ is $\\large B_1={0}$, and our alternate hypothesis or $\\large H_A$ is $\\large B_1{\\ne{0} }$. Essentially, the null is stating that our slope is 0, or that there is no relationship between our variables."
   ]
  },
  {
   "cell_type": "markdown",
   "metadata": {},
   "source": [
    "To test this, we calculate how many deviations from 0 our $\\large B_1$ is. In the above equation, $\\large B_1$ is our predicted slope and $\\large SE(B_1)$ is the standard error of our slope. The standard error is a way measuring the deviation of our slope."
   ]
  },
  {
   "cell_type": "markdown",
   "metadata": {},
   "source": [
    "The equation for the standard error of $\\large B_1$ is below:"
   ]
  },
  {
   "cell_type": "markdown",
   "metadata": {},
   "source": [
    "$$\\LARGE SE(B_1)={\\sigma^2 \\over \\sum_{i=1}^N (x_i-X)^2 }$$"
   ]
  },
  {
   "cell_type": "markdown",
   "metadata": {},
   "source": [
    "where $\\large \\sigma^2={Var(E)}$, or is the variance of our error term. We use our data to estimate this variable by  calculating our RSE or residual sum of squares by the equation below:"
   ]
  },
  {
   "cell_type": "markdown",
   "metadata": {},
   "source": [
    "$$ \\LARGE  \\sigma^2={RSE={\\sqrt{ RSS \\over (n-2)}}}$$"
   ]
  },
  {
   "cell_type": "markdown",
   "metadata": {},
   "source": [
    "where $\\large n$ is the number of observations and $RSS$ is our residual sum of squares. Our RSS can be found by the following equation:"
   ]
  },
  {
   "cell_type": "markdown",
   "metadata": {},
   "source": [
    "$$\\LARGE RSS={\\sum_{i=1}^N (Y_i -y_i)^2} $$"
   ]
  },
  {
   "cell_type": "markdown",
   "metadata": {},
   "source": [
    "where $\\large Y_i$ is the actual value of the response and $\\large y_i$ is our prediction for the $\\large i_{th} observation.$"
   ]
  },
  {
   "cell_type": "markdown",
   "metadata": {},
   "source": [
    "Our test statistic in Simple Linear Regression corresponds to a Gaussian Distribution. Thus, once we calculate our t-stat, and assign a signficance level, we can then use the same to either reject or fail to reject the null hypothesis, $\\large H_0$. Notice that I didn't say that we would either reject or accept the null. This is because failing to reject the null does not necessarily mean that we accept the null. We just weren't able to reject it at some significance level, or within some confidence interval."
   ]
  },
  {
   "cell_type": "markdown",
   "metadata": {},
   "source": [
    "We would then get our $\\large \\alpha$, or p-value. Our p-value tells us that given the null hypothesis being true, how likely we are  to observe a value of our test statistic greater than or equal to the one that we observed. Stated another way, our p-value tells us the probability of our null hypothesis being true given the t-statistic we observed. It is also the lowest significance level where by we can reject the null hypothesis, $\\large H_0$."
   ]
  },
  {
   "cell_type": "markdown",
   "metadata": {},
   "source": [
    "In some cases we wouldn't have a single predictor variable, but may have multiple variables. These explanatory variables may be quantitative, qualitative, or a mix of both. Our equation changes somewhat to account for multiple variables. The equation for multiple linear regression is below:"
   ]
  },
  {
   "cell_type": "markdown",
   "metadata": {},
   "source": [
    "$$ \\LARGE y={B_0 + B_1x_1 + B_2x_2 + .........+ B_nx_n }$$"
   ]
  },
  {
   "cell_type": "markdown",
   "metadata": {},
   "source": [
    "The above equation for multiple linear regression is similar to our initial simple linear regression equation with the exception that we now have a slope, $\\large B_1$, variable for each of our $\\large x$ terms. This simply expresses the relationship between that specific $\\large x $ and our response $\\large y$."
   ]
  },
  {
   "cell_type": "markdown",
   "metadata": {},
   "source": [
    "Our test statistic and distribution also changes from the t-statistic and Gaussian distribution to the f-statistic and f-distribtuion."
   ]
  },
  {
   "cell_type": "markdown",
   "metadata": {},
   "source": [
    "# Let's Build a Model "
   ]
  },
  {
   "cell_type": "markdown",
   "metadata": {},
   "source": [
    "Now that we have reviewed linear regression, we can construct a model to make predictions. We'll use PNB and our objective is to predict the next closing price.\n"
   ]
  },
  {
   "cell_type": "markdown",
   "metadata": {},
   "source": [
    "Let's get our libraries"
   ]
  },
  {
   "cell_type": "code",
   "execution_count": 4,
   "metadata": {
    "collapsed": true
   },
   "outputs": [],
   "source": [
    "#data analysis and manipulation\n",
    "import numpy as np\n",
    "import pandas as pd\n",
    "\n",
    "#data collection\n",
    "import pandas_datareader as pdr\n",
    "\n",
    "#data visualization\n",
    "import matplotlib.pyplot as plt\n",
    "import seaborn as sns"
   ]
  },
  {
   "cell_type": "markdown",
   "metadata": {},
   "source": [
    "Let's import our data."
   ]
  },
  {
   "cell_type": "code",
   "execution_count": 228,
   "metadata": {
    "collapsed": true
   },
   "outputs": [],
   "source": [
    "#setting our testing period\n",
    "start='2016-01-01'\n",
    "end='2018-01-01'\n",
    "pnb=pdr.get_data_yahoo('PNB.NS',start, end)"
   ]
  },
  {
   "cell_type": "markdown",
   "metadata": {},
   "source": [
    "Let's check the head of our data."
   ]
  },
  {
   "cell_type": "code",
   "execution_count": 229,
   "metadata": {},
   "outputs": [
    {
     "data": {
      "text/html": [
       "<div>\n",
       "<style scoped>\n",
       "    .dataframe tbody tr th:only-of-type {\n",
       "        vertical-align: middle;\n",
       "    }\n",
       "\n",
       "    .dataframe tbody tr th {\n",
       "        vertical-align: top;\n",
       "    }\n",
       "\n",
       "    .dataframe thead th {\n",
       "        text-align: right;\n",
       "    }\n",
       "</style>\n",
       "<table border=\"1\" class=\"dataframe\">\n",
       "  <thead>\n",
       "    <tr style=\"text-align: right;\">\n",
       "      <th></th>\n",
       "      <th>Open</th>\n",
       "      <th>High</th>\n",
       "      <th>Low</th>\n",
       "      <th>Close</th>\n",
       "      <th>Adj Close</th>\n",
       "      <th>Volume</th>\n",
       "    </tr>\n",
       "    <tr>\n",
       "      <th>Date</th>\n",
       "      <th></th>\n",
       "      <th></th>\n",
       "      <th></th>\n",
       "      <th></th>\n",
       "      <th></th>\n",
       "      <th></th>\n",
       "    </tr>\n",
       "  </thead>\n",
       "  <tbody>\n",
       "    <tr>\n",
       "      <th>2016-01-01</th>\n",
       "      <td>116.000000</td>\n",
       "      <td>117.900002</td>\n",
       "      <td>115.500000</td>\n",
       "      <td>117.599998</td>\n",
       "      <td>117.599998</td>\n",
       "      <td>4070369</td>\n",
       "    </tr>\n",
       "    <tr>\n",
       "      <th>2016-01-04</th>\n",
       "      <td>117.000000</td>\n",
       "      <td>117.000000</td>\n",
       "      <td>112.500000</td>\n",
       "      <td>112.800003</td>\n",
       "      <td>112.800003</td>\n",
       "      <td>6341172</td>\n",
       "    </tr>\n",
       "    <tr>\n",
       "      <th>2016-01-05</th>\n",
       "      <td>113.000000</td>\n",
       "      <td>113.349998</td>\n",
       "      <td>110.199997</td>\n",
       "      <td>110.599998</td>\n",
       "      <td>110.599998</td>\n",
       "      <td>7271156</td>\n",
       "    </tr>\n",
       "    <tr>\n",
       "      <th>2016-01-06</th>\n",
       "      <td>110.949997</td>\n",
       "      <td>111.800003</td>\n",
       "      <td>109.300003</td>\n",
       "      <td>109.599998</td>\n",
       "      <td>109.599998</td>\n",
       "      <td>5910731</td>\n",
       "    </tr>\n",
       "    <tr>\n",
       "      <th>2016-01-07</th>\n",
       "      <td>108.099998</td>\n",
       "      <td>108.449997</td>\n",
       "      <td>104.500000</td>\n",
       "      <td>105.050003</td>\n",
       "      <td>105.050003</td>\n",
       "      <td>7497260</td>\n",
       "    </tr>\n",
       "  </tbody>\n",
       "</table>\n",
       "</div>"
      ],
      "text/plain": [
       "                  Open        High         Low       Close   Adj Close  \\\n",
       "Date                                                                     \n",
       "2016-01-01  116.000000  117.900002  115.500000  117.599998  117.599998   \n",
       "2016-01-04  117.000000  117.000000  112.500000  112.800003  112.800003   \n",
       "2016-01-05  113.000000  113.349998  110.199997  110.599998  110.599998   \n",
       "2016-01-06  110.949997  111.800003  109.300003  109.599998  109.599998   \n",
       "2016-01-07  108.099998  108.449997  104.500000  105.050003  105.050003   \n",
       "\n",
       "             Volume  \n",
       "Date                 \n",
       "2016-01-01  4070369  \n",
       "2016-01-04  6341172  \n",
       "2016-01-05  7271156  \n",
       "2016-01-06  5910731  \n",
       "2016-01-07  7497260  "
      ]
     },
     "execution_count": 229,
     "metadata": {},
     "output_type": "execute_result"
    }
   ],
   "source": [
    "pnb.head()\n"
   ]
  },
  {
   "cell_type": "markdown",
   "metadata": {},
   "source": [
    "Let's see how PNB performed over our sample period."
   ]
  },
  {
   "cell_type": "code",
   "execution_count": 230,
   "metadata": {},
   "outputs": [
    {
     "data": {
      "image/png": "[encoded data removed]",
      "text/plain": [
       "<matplotlib.figure.Figure at 0x1f4105d2518>"
      ]
     },
     "metadata": {},
     "output_type": "display_data"
    }
   ],
   "source": [
    "plt.figure(figsize=(10,6))\n",
    "plt.plot(pnb['Close'])\n",
    "plt.title('PNB 2016-2018 Performance')\n",
    "plt.show()"
   ]
  },
  {
   "cell_type": "markdown",
   "metadata": {},
   "source": [
    "We can now create the explanatory variables that we will use to predict PNB's closing price. We will use a mix of quantitative and qualitative variables."
   ]
  },
  {
   "cell_type": "markdown",
   "metadata": {},
   "source": [
    "Let's add our predictors to our data frame. But first, we'll make a copy of our original dataframe. This is a good practice should we need to go back and reinitialize our data in the future."
   ]
  },
  {
   "cell_type": "code",
   "execution_count": 231,
   "metadata": {
    "collapsed": true
   },
   "outputs": [],
   "source": [
    "#making a copy of our data frame\n",
    "PNB=pnb.copy()"
   ]
  },
  {
   "cell_type": "code",
   "execution_count": 232,
   "metadata": {
    "collapsed": true
   },
   "outputs": [],
   "source": [
    "#creating our predictor variables\n",
    "\n",
    "#Lag 1 Predictor\n",
    "PNB['Lag 1']=PNB['Close'].shift(1)\n",
    "\n",
    "#Lag 2 Predictor\n",
    "PNB['Lag 2']=PNB['Close'].shift(2)\n",
    "\n",
    "#Higher High Predictor\n",
    "PNB['Higher High']=np.where(PNB['High'].shift(1) > PNB['High'].shift(2),1,-1)\n",
    "\n",
    "#Lower Low Predictor\n",
    "PNB['Lower Low']=np.where(PNB['Low'].shift(1) < PNB['Low'].shift(2),1,-1)\n"
   ]
  },
  {
   "cell_type": "markdown",
   "metadata": {},
   "source": [
    "Now let's review our PNB dataframe."
   ]
  },
  {
   "cell_type": "code",
   "execution_count": 233,
   "metadata": {},
   "outputs": [
    {
     "data": {
      "text/html": [
       "<div>\n",
       "<style scoped>\n",
       "    .dataframe tbody tr th:only-of-type {\n",
       "        vertical-align: middle;\n",
       "    }\n",
       "\n",
       "    .dataframe tbody tr th {\n",
       "        vertical-align: top;\n",
       "    }\n",
       "\n",
       "    .dataframe thead th {\n",
       "        text-align: right;\n",
       "    }\n",
       "</style>\n",
       "<table border=\"1\" class=\"dataframe\">\n",
       "  <thead>\n",
       "    <tr style=\"text-align: right;\">\n",
       "      <th></th>\n",
       "      <th>Open</th>\n",
       "      <th>High</th>\n",
       "      <th>Low</th>\n",
       "      <th>Close</th>\n",
       "      <th>Adj Close</th>\n",
       "      <th>Volume</th>\n",
       "      <th>Lag 1</th>\n",
       "      <th>Lag 2</th>\n",
       "      <th>Higher High</th>\n",
       "      <th>Lower Low</th>\n",
       "    </tr>\n",
       "    <tr>\n",
       "      <th>Date</th>\n",
       "      <th></th>\n",
       "      <th></th>\n",
       "      <th></th>\n",
       "      <th></th>\n",
       "      <th></th>\n",
       "      <th></th>\n",
       "      <th></th>\n",
       "      <th></th>\n",
       "      <th></th>\n",
       "      <th></th>\n",
       "    </tr>\n",
       "  </thead>\n",
       "  <tbody>\n",
       "    <tr>\n",
       "      <th>2016-01-01</th>\n",
       "      <td>116.000000</td>\n",
       "      <td>117.900002</td>\n",
       "      <td>115.500000</td>\n",
       "      <td>117.599998</td>\n",
       "      <td>117.599998</td>\n",
       "      <td>4070369</td>\n",
       "      <td>NaN</td>\n",
       "      <td>NaN</td>\n",
       "      <td>-1</td>\n",
       "      <td>-1</td>\n",
       "    </tr>\n",
       "    <tr>\n",
       "      <th>2016-01-04</th>\n",
       "      <td>117.000000</td>\n",
       "      <td>117.000000</td>\n",
       "      <td>112.500000</td>\n",
       "      <td>112.800003</td>\n",
       "      <td>112.800003</td>\n",
       "      <td>6341172</td>\n",
       "      <td>117.599998</td>\n",
       "      <td>NaN</td>\n",
       "      <td>-1</td>\n",
       "      <td>-1</td>\n",
       "    </tr>\n",
       "    <tr>\n",
       "      <th>2016-01-05</th>\n",
       "      <td>113.000000</td>\n",
       "      <td>113.349998</td>\n",
       "      <td>110.199997</td>\n",
       "      <td>110.599998</td>\n",
       "      <td>110.599998</td>\n",
       "      <td>7271156</td>\n",
       "      <td>112.800003</td>\n",
       "      <td>117.599998</td>\n",
       "      <td>-1</td>\n",
       "      <td>1</td>\n",
       "    </tr>\n",
       "    <tr>\n",
       "      <th>2016-01-06</th>\n",
       "      <td>110.949997</td>\n",
       "      <td>111.800003</td>\n",
       "      <td>109.300003</td>\n",
       "      <td>109.599998</td>\n",
       "      <td>109.599998</td>\n",
       "      <td>5910731</td>\n",
       "      <td>110.599998</td>\n",
       "      <td>112.800003</td>\n",
       "      <td>-1</td>\n",
       "      <td>1</td>\n",
       "    </tr>\n",
       "    <tr>\n",
       "      <th>2016-01-07</th>\n",
       "      <td>108.099998</td>\n",
       "      <td>108.449997</td>\n",
       "      <td>104.500000</td>\n",
       "      <td>105.050003</td>\n",
       "      <td>105.050003</td>\n",
       "      <td>7497260</td>\n",
       "      <td>109.599998</td>\n",
       "      <td>110.599998</td>\n",
       "      <td>-1</td>\n",
       "      <td>1</td>\n",
       "    </tr>\n",
       "  </tbody>\n",
       "</table>\n",
       "</div>"
      ],
      "text/plain": [
       "                  Open        High         Low       Close   Adj Close  \\\n",
       "Date                                                                     \n",
       "2016-01-01  116.000000  117.900002  115.500000  117.599998  117.599998   \n",
       "2016-01-04  117.000000  117.000000  112.500000  112.800003  112.800003   \n",
       "2016-01-05  113.000000  113.349998  110.199997  110.599998  110.599998   \n",
       "2016-01-06  110.949997  111.800003  109.300003  109.599998  109.599998   \n",
       "2016-01-07  108.099998  108.449997  104.500000  105.050003  105.050003   \n",
       "\n",
       "             Volume       Lag 1       Lag 2  Higher High  Lower Low  \n",
       "Date                                                                 \n",
       "2016-01-01  4070369         NaN         NaN           -1         -1  \n",
       "2016-01-04  6341172  117.599998         NaN           -1         -1  \n",
       "2016-01-05  7271156  112.800003  117.599998           -1          1  \n",
       "2016-01-06  5910731  110.599998  112.800003           -1          1  \n",
       "2016-01-07  7497260  109.599998  110.599998           -1          1  "
      ]
     },
     "execution_count": 233,
     "metadata": {},
     "output_type": "execute_result"
    }
   ],
   "source": [
    "PNB.head()"
   ]
  },
  {
   "cell_type": "markdown",
   "metadata": {},
   "source": [
    "Now let's import our Linear Regression Model from sci-kit learn."
   ]
  },
  {
   "cell_type": "code",
   "execution_count": 12,
   "metadata": {
    "collapsed": true
   },
   "outputs": [],
   "source": [
    "from sklearn.linear_model import LinearRegression"
   ]
  },
  {
   "cell_type": "markdown",
   "metadata": {},
   "source": [
    "Now that we have our model, let's import our train_test_split object from sklearn."
   ]
  },
  {
   "cell_type": "code",
   "execution_count": 13,
   "metadata": {
    "collapsed": true
   },
   "outputs": [],
   "source": [
    "from sklearn.model_selection import train_test_split\n"
   ]
  },
  {
   "cell_type": "markdown",
   "metadata": {},
   "source": [
    "Now we're ready to create training and testing sets for our data. But first, let's initialize our  X and y variables. Remember X denotes our predictor variables, and y denotes our response or what we're actually trying to predict."
   ]
  },
  {
   "cell_type": "code",
   "execution_count": 234,
   "metadata": {},
   "outputs": [],
   "source": [
    "#creating our predictor variables\n",
    "X=PNB.drop(['Open','High','Low','Close','Volume','Adj Close'],axis=1)\n",
    "\n",
    "#initializing our response variable\n",
    "y=PNB['Close']\n"
   ]
  },
  {
   "cell_type": "markdown",
   "metadata": {},
   "source": [
    "Now we're ready to split our data into training and testing sets."
   ]
  },
  {
   "cell_type": "code",
   "execution_count": 235,
   "metadata": {},
   "outputs": [],
   "source": [
    "X_train, X_test, y_train, y_test= train_test_split(X,y,test_size=.20, random_state=101)\n"
   ]
  },
  {
   "cell_type": "markdown",
   "metadata": {},
   "source": [
    "We now have our training and testing sets. Note, random_state above is used so that when you recreate this model you get the same output as we have here."
   ]
  },
  {
   "cell_type": "markdown",
   "metadata": {},
   "source": [
    "We are now ready to fit our model and make predictions. We will first initialize our model."
   ]
  },
  {
   "cell_type": "code",
   "execution_count": 82,
   "metadata": {
    "collapsed": true
   },
   "outputs": [],
   "source": [
    "lm=LinearRegression()"
   ]
  },
  {
   "cell_type": "markdown",
   "metadata": {},
   "source": [
    "Now we can pass in our training sets into our model. We must fill the NaN values in our X_train set first. "
   ]
  },
  {
   "cell_type": "code",
   "execution_count": 236,
   "metadata": {},
   "outputs": [
    {
     "data": {
      "text/plain": [
       "LinearRegression(copy_X=True, fit_intercept=True, n_jobs=1, normalize=False)"
      ]
     },
     "execution_count": 236,
     "metadata": {},
     "output_type": "execute_result"
    }
   ],
   "source": [
    "#fitting our model to our training data\n",
    "lm.fit(X_train.fillna(0),y_train)\n"
   ]
  },
  {
   "cell_type": "markdown",
   "metadata": {},
   "source": [
    "Now that we have fit our model to our data, let's use it to make predictions. We will pass in our X_test set into the predict method. X_test are the features that our model hasn't seen."
   ]
  },
  {
   "cell_type": "code",
   "execution_count": 237,
   "metadata": {
    "collapsed": true
   },
   "outputs": [],
   "source": [
    "#making predictions\n",
    "predictions=lm.predict(X_test.fillna(0))"
   ]
  },
  {
   "cell_type": "markdown",
   "metadata": {},
   "source": [
    "Now that we have our predictions, we can check to see how well our model performed. There a variety of different things that we would like to view to assess our model's performance. Our model's $\\large R^2$,R-Squared tells us the percentage variance in our response that can be explained by our predictors. We would also like to look at our model's errors. Our errors tell us how much our model deviated from the actual response value. Our objective is to create a model that achieves the lowest possible error. "
   ]
  },
  {
   "cell_type": "markdown",
   "metadata": {},
   "source": [
    "We can also check our model's coefficients. These are the values for $\\large B_1x_i$ or the slopes for each of our features."
   ]
  },
  {
   "cell_type": "code",
   "execution_count": 238,
   "metadata": {},
   "outputs": [
    {
     "data": {
      "text/plain": [
       "array([ 0.96144829, -0.01010358, -0.36087875, -0.58658529])"
      ]
     },
     "execution_count": 238,
     "metadata": {},
     "output_type": "execute_result"
    }
   ],
   "source": [
    "#checking our model's coefficients\n",
    "lm.coef_"
   ]
  },
  {
   "cell_type": "markdown",
   "metadata": {},
   "source": [
    "Let's get our model's $\\large R^2$ value. We will import metrics from sklearn."
   ]
  },
  {
   "cell_type": "code",
   "execution_count": 86,
   "metadata": {
    "collapsed": true
   },
   "outputs": [],
   "source": [
    "from sklearn import metrics"
   ]
  },
  {
   "cell_type": "code",
   "execution_count": 239,
   "metadata": {},
   "outputs": [
    {
     "name": "stdout",
     "output_type": "stream",
     "text": [
      "R-Squared: 0.984144787267\n"
     ]
    }
   ],
   "source": [
    "#getting our R-Squared value\n",
    "print('R-Squared:',metrics.explained_variance_score(y_test,predictions))"
   ]
  },
  {
   "cell_type": "markdown",
   "metadata": {},
   "source": [
    "Now let's check our errors. We'll look at our MSE, or Mean Squared Error, MAE, or Mean Absolute Error, and RMSE, or Root Mean Squared Error."
   ]
  },
  {
   "cell_type": "code",
   "execution_count": 240,
   "metadata": {},
   "outputs": [
    {
     "name": "stdout",
     "output_type": "stream",
     "text": [
      "MSE: 14.2734888699\n",
      "MAE: 2.80920828438\n",
      "RMSE: 3.77802711344\n"
     ]
    }
   ],
   "source": [
    "#printing our errors\n",
    "print('MSE:',metrics.mean_squared_error(y_test,predictions))\n",
    "print('MAE:',metrics.mean_absolute_error(y_test,predictions))\n",
    "print('RMSE:',np.sqrt(metrics.mean_squared_error(y_test,predictions)))"
   ]
  },
  {
   "cell_type": "markdown",
   "metadata": {},
   "source": [
    "Let's now plot our actual response and our predicted responses. We can also calculate our residuals or errors."
   ]
  },
  {
   "cell_type": "code",
   "execution_count": 241,
   "metadata": {},
   "outputs": [
    {
     "data": {
      "text/plain": [
       "<matplotlib.text.Text at 0x1f4129ef198>"
      ]
     },
     "execution_count": 241,
     "metadata": {},
     "output_type": "execute_result"
    },
    {
     "data": {
      "image/png": "[encoded data removed]",
      "text/plain": [
       "<matplotlib.figure.Figure at 0x1f413e3b828>"
      ]
     },
     "metadata": {},
     "output_type": "display_data"
    }
   ],
   "source": [
    "sns.jointplot(predictions,y_test,kind='regplot')\n",
    "plt.xlabel('Predictions')\n",
    "plt.ylabel('Actual')"
   ]
  },
  {
   "cell_type": "markdown",
   "metadata": {},
   "source": [
    "The above plot shows that our predictions and actual responses are highly correlated. It also shows a really small p-value as well. Let's now plot our residuals."
   ]
  },
  {
   "cell_type": "code",
   "execution_count": 242,
   "metadata": {
    "collapsed": true
   },
   "outputs": [],
   "source": [
    "residuals=y_test-predictions"
   ]
  },
  {
   "cell_type": "code",
   "execution_count": 243,
   "metadata": {},
   "outputs": [
    {
     "data": {
      "text/plain": [
       "<matplotlib.axes._subplots.AxesSubplot at 0x1f40c80a630>"
      ]
     },
     "execution_count": 243,
     "metadata": {},
     "output_type": "execute_result"
    },
    {
     "data": {
      "image/png": "[encoded data removed]",
      "text/plain": [
       "<matplotlib.figure.Figure at 0x1f40bd8a7b8>"
      ]
     },
     "metadata": {},
     "output_type": "display_data"
    }
   ],
   "source": [
    "#plotting residuals\n",
    "sns.distplot(residuals,bins=100)"
   ]
  },
  {
   "cell_type": "markdown",
   "metadata": {},
   "source": [
    "Now let's plot our residuals to our predictions."
   ]
  },
  {
   "cell_type": "code",
   "execution_count": 244,
   "metadata": {},
   "outputs": [
    {
     "data": {
      "text/plain": [
       "<seaborn.axisgrid.JointGrid at 0x1f41008eb70>"
      ]
     },
     "execution_count": 244,
     "metadata": {},
     "output_type": "execute_result"
    },
    {
     "data": {
      "image/png": "[encoded data removed]",
      "text/plain": [
       "<matplotlib.figure.Figure at 0x1f41008eb00>"
      ]
     },
     "metadata": {},
     "output_type": "display_data"
    }
   ],
   "source": [
    "sns.jointplot(residuals,predictions)"
   ]
  },
  {
   "cell_type": "markdown",
   "metadata": {},
   "source": [
    "Let's take a moment to understand what we've covered thus far. We began by creating our features using both quantitative or numerical and qualitative or categorical data. We split our data into 80% training and 20% testing sets. We fit our model to our data and then used it to make predictions by passing in our X_test set or the features that our model hadn't yet seen. We then evaluated our model computing our R-Squared and our errors."
   ]
  },
  {
   "cell_type": "markdown",
   "metadata": {},
   "source": [
    "We computed our residuals or our errors, by calculating the difference between our y_test and our predictions. A key assumption of Linear Regression is linearity. This means that the model assumes that despite \n",
    "changes in our x values, the slope remains constant. To check this assumption, we can plot a distribution of our residuals. If our residuals are normally distributed, then it would mean that our assumption of linearity is true. "
   ]
  },
  {
   "cell_type": "markdown",
   "metadata": {},
   "source": [
    "We also plotted our residuals to our predictions. This is another method for testing our data for linearity. In simple linear regression we could have plotted our residuals to our $\\large X$, or predictor variable. Here, because we have multiple predictors, we plot our residuals, or errors, to our predictions."
   ]
  },
  {
   "cell_type": "markdown",
   "metadata": {},
   "source": [
    "When we plot a distribution of our residuals they doesn't appear to be normally distributed. Also from viewing the plot of our residuals to our predictions we can see that our data is not exaclty linear. This means that we could improve our model and reduce our errors by using a non-linear model. We can achieve this goal by introducing polynomial regression."
   ]
  },
  {
   "cell_type": "markdown",
   "metadata": {},
   "source": [
    "# Polynomial Regression"
   ]
  },
  {
   "cell_type": "markdown",
   "metadata": {},
   "source": [
    "We'll use polynomial regression to transform our linear model to better fit our non linear data."
   ]
  },
  {
   "cell_type": "markdown",
   "metadata": {},
   "source": [
    "You may be wondering why its called polynomial regression. The method is named so because we transform our linear equation into a polynomial equation. In our PNB example, we have four features. Our linear equation currently is the following:"
   ]
  },
  {
   "cell_type": "markdown",
   "metadata": {},
   "source": [
    "$$\\LARGE y={6.71 +0.96(X_1)+ -0.01(X_2),-0.36(X_3)+-0.58(X_4)}$$"
   ]
  },
  {
   "cell_type": "markdown",
   "metadata": {},
   "source": [
    "We can retrieve our $\\large B_0$ and $\\large B_1$ by calling the .coef_ and .intercept methods on our lm model"
   ]
  },
  {
   "cell_type": "markdown",
   "metadata": {},
   "source": [
    "Checking our $\\large B_1$"
   ]
  },
  {
   "cell_type": "code",
   "execution_count": 245,
   "metadata": {},
   "outputs": [
    {
     "data": {
      "text/plain": [
       "array([ 0.96144829, -0.01010358, -0.36087875, -0.58658529])"
      ]
     },
     "execution_count": 245,
     "metadata": {},
     "output_type": "execute_result"
    }
   ],
   "source": [
    "lm.coef_"
   ]
  },
  {
   "cell_type": "markdown",
   "metadata": {},
   "source": [
    "Checking our $\\large B_0$\n"
   ]
  },
  {
   "cell_type": "code",
   "execution_count": 246,
   "metadata": {},
   "outputs": [
    {
     "data": {
      "text/plain": [
       "6.7073427626703364"
      ]
     },
     "execution_count": 246,
     "metadata": {},
     "output_type": "execute_result"
    }
   ],
   "source": [
    "lm.intercept_\n"
   ]
  },
  {
   "cell_type": "markdown",
   "metadata": {},
   "source": [
    "We'll create a dataframe to better visualize our coefficients."
   ]
  },
  {
   "cell_type": "code",
   "execution_count": 247,
   "metadata": {},
   "outputs": [],
   "source": [
    "coefficients=pd.DataFrame(lm.coef_,index=X_train.columns,columns=['Coefficients'])"
   ]
  },
  {
   "cell_type": "code",
   "execution_count": 248,
   "metadata": {},
   "outputs": [
    {
     "data": {
      "text/html": [
       "<div>\n",
       "<style scoped>\n",
       "    .dataframe tbody tr th:only-of-type {\n",
       "        vertical-align: middle;\n",
       "    }\n",
       "\n",
       "    .dataframe tbody tr th {\n",
       "        vertical-align: top;\n",
       "    }\n",
       "\n",
       "    .dataframe thead th {\n",
       "        text-align: right;\n",
       "    }\n",
       "</style>\n",
       "<table border=\"1\" class=\"dataframe\">\n",
       "  <thead>\n",
       "    <tr style=\"text-align: right;\">\n",
       "      <th></th>\n",
       "      <th>Coefficients</th>\n",
       "    </tr>\n",
       "  </thead>\n",
       "  <tbody>\n",
       "    <tr>\n",
       "      <th>Lag 1</th>\n",
       "      <td>0.961448</td>\n",
       "    </tr>\n",
       "    <tr>\n",
       "      <th>Lag 2</th>\n",
       "      <td>-0.010104</td>\n",
       "    </tr>\n",
       "    <tr>\n",
       "      <th>Higher High</th>\n",
       "      <td>-0.360879</td>\n",
       "    </tr>\n",
       "    <tr>\n",
       "      <th>Lower Low</th>\n",
       "      <td>-0.586585</td>\n",
       "    </tr>\n",
       "  </tbody>\n",
       "</table>\n",
       "</div>"
      ],
      "text/plain": [
       "             Coefficients\n",
       "Lag 1            0.961448\n",
       "Lag 2           -0.010104\n",
       "Higher High     -0.360879\n",
       "Lower Low       -0.586585"
      ]
     },
     "execution_count": 248,
     "metadata": {},
     "output_type": "execute_result"
    }
   ],
   "source": [
    "coefficients"
   ]
  },
  {
   "cell_type": "markdown",
   "metadata": {},
   "source": [
    "Now we can clearly see our $\\large B_1$s for each feature. Let's visualize our features so that we have an idea of which ones we would like to transform."
   ]
  },
  {
   "cell_type": "markdown",
   "metadata": {},
   "source": [
    "We can see that our Lag 1 predictor has the highest coefficient. This indicates that it explains approximately 94% of the variation in our response variable. Let's do a regression plot to form the basis of what a linear relationship between our X and Y variables looks like."
   ]
  },
  {
   "cell_type": "code",
   "execution_count": 249,
   "metadata": {},
   "outputs": [
    {
     "data": {
      "text/plain": [
       "<seaborn.axisgrid.JointGrid at 0x1f40ca5e240>"
      ]
     },
     "execution_count": 249,
     "metadata": {},
     "output_type": "execute_result"
    },
    {
     "data": {
      "image/png": "[encoded data removed]",
      "text/plain": [
       "<matplotlib.figure.Figure at 0x1f40ca5e400>"
      ]
     },
     "metadata": {},
     "output_type": "display_data"
    }
   ],
   "source": [
    "sns.jointplot(PNB['Lag 1'], PNB['Close'], kind='regplot')"
   ]
  },
  {
   "cell_type": "markdown",
   "metadata": {},
   "source": [
    "Our lower low feature has the lowest $\\large B_1$ coefficient. Let's visualize it."
   ]
  },
  {
   "cell_type": "code",
   "execution_count": 250,
   "metadata": {},
   "outputs": [
    {
     "name": "stderr",
     "output_type": "stream",
     "text": [
      "C:\\Anaconda3\\lib\\site-packages\\seaborn\\categorical.py:482: FutureWarning: remove_na is deprecated and is a private function. Do not use.\n",
      "  box_data = remove_na(group_data[hue_mask])\n"
     ]
    },
    {
     "data": {
      "text/plain": [
       "<matplotlib.axes._subplots.AxesSubplot at 0x1f40b897198>"
      ]
     },
     "execution_count": 250,
     "metadata": {},
     "output_type": "execute_result"
    },
    {
     "data": {
      "image/png": "[encoded data removed]",
      "text/plain": [
       "<matplotlib.figure.Figure at 0x1f40ca5f080>"
      ]
     },
     "metadata": {},
     "output_type": "display_data"
    }
   ],
   "source": [
    "plt.figure(figsize=(10,6))\n",
    "sns.boxplot(x='Lower Low',y='Close',hue='Lower Low',data=PNB)"
   ]
  },
  {
   "cell_type": "markdown",
   "metadata": {},
   "source": [
    "We can see a significant drop between the coefficient of our Lag 1 feature and our Lag 2 feature. Let's visualize our Lag 2 feature."
   ]
  },
  {
   "cell_type": "code",
   "execution_count": 251,
   "metadata": {},
   "outputs": [
    {
     "data": {
      "text/plain": [
       "<seaborn.axisgrid.FacetGrid at 0x1f4108d63c8>"
      ]
     },
     "execution_count": 251,
     "metadata": {},
     "output_type": "execute_result"
    },
    {
     "data": {
      "text/plain": [
       "<matplotlib.figure.Figure at 0x1f40e0691d0>"
      ]
     },
     "metadata": {},
     "output_type": "display_data"
    },
    {
     "data": {
      "image/png": "[encoded data removed]",
      "text/plain": [
       "<matplotlib.figure.Figure at 0x1f4108d6390>"
      ]
     },
     "metadata": {},
     "output_type": "display_data"
    }
   ],
   "source": [
    "plt.figure(figsize=(10,6))\n",
    "sns.lmplot('Lag 2', 'Close', data=PNB)\n"
   ]
  },
  {
   "cell_type": "markdown",
   "metadata": {},
   "source": [
    "We can see quite a difference between the fit of our Lag 2 feature compared to that of our Lag 1 feature. This is something we want to make a note of. Our Lag 1 feature has a coefficient of 96% while our Lag 2 feature's coefficient is -0.01%. This can be seen by how close our data is to our best fit line. This is a significant decline given the distance between Lag 1 and Lag 2. We can also see in both cases that we have points that are remote to our data and our line."
   ]
  },
  {
   "cell_type": "markdown",
   "metadata": {},
   "source": [
    "Now let's visualize our Higher Highs versus our Close."
   ]
  },
  {
   "cell_type": "code",
   "execution_count": 252,
   "metadata": {},
   "outputs": [
    {
     "name": "stderr",
     "output_type": "stream",
     "text": [
      "C:\\Anaconda3\\lib\\site-packages\\seaborn\\categorical.py:454: FutureWarning: remove_na is deprecated and is a private function. Do not use.\n",
      "  box_data = remove_na(group_data)\n"
     ]
    },
    {
     "data": {
      "text/plain": [
       "<matplotlib.axes._subplots.AxesSubplot at 0x1f4108e2e48>"
      ]
     },
     "execution_count": 252,
     "metadata": {},
     "output_type": "execute_result"
    },
    {
     "data": {
      "image/png": "[encoded data removed]",
      "text/plain": [
       "<matplotlib.figure.Figure at 0x1f40ea5f358>"
      ]
     },
     "metadata": {},
     "output_type": "display_data"
    }
   ],
   "source": [
    "plt.figure(figsize=(10,6))\n",
    "sns.boxplot(x='Higher High',y='Close',data=PNB)"
   ]
  },
  {
   "cell_type": "markdown",
   "metadata": {
    "collapsed": true
   },
   "source": [
    "Let's transform our linear equation in an effort to reduce our Mean Squared Error. Our model appears to fit our data well and could be due to the relationship between Lag 1 and the Closing Price. However, we can't necessarily give all the credit to Lag 1 because it is possible that some relationship exists between the explanatory variables that could be muting their true relationship to our response. This is the additive assumption of linear models. Linear models assume that our predictor variables' presence has no effect on the remaining variables ability to predict our response. To test this we could build a simple regression model for each variable and compare it to our current model. We might also examine the correlations between our explantory variables as well."
   ]
  },
  {
   "cell_type": "markdown",
   "metadata": {
    "collapsed": true
   },
   "source": [
    "We're going to transform our Lag 2 variable. It is somewhat strange that out Lag 2 coefficient deviates greatly from our Lag 1. We will rewrite our equation to include the square of Lag 2 and build our model and see if this reduces our MSE. To implement this, let's add this new variable to our dataframe."
   ]
  },
  {
   "cell_type": "markdown",
   "metadata": {},
   "source": [
    "Before adding our new variable, let's check our PNB dataframe."
   ]
  },
  {
   "cell_type": "code",
   "execution_count": 253,
   "metadata": {},
   "outputs": [
    {
     "data": {
      "text/html": [
       "<div>\n",
       "<style scoped>\n",
       "    .dataframe tbody tr th:only-of-type {\n",
       "        vertical-align: middle;\n",
       "    }\n",
       "\n",
       "    .dataframe tbody tr th {\n",
       "        vertical-align: top;\n",
       "    }\n",
       "\n",
       "    .dataframe thead th {\n",
       "        text-align: right;\n",
       "    }\n",
       "</style>\n",
       "<table border=\"1\" class=\"dataframe\">\n",
       "  <thead>\n",
       "    <tr style=\"text-align: right;\">\n",
       "      <th></th>\n",
       "      <th>Open</th>\n",
       "      <th>High</th>\n",
       "      <th>Low</th>\n",
       "      <th>Close</th>\n",
       "      <th>Adj Close</th>\n",
       "      <th>Volume</th>\n",
       "      <th>Lag 1</th>\n",
       "      <th>Lag 2</th>\n",
       "      <th>Higher High</th>\n",
       "      <th>Lower Low</th>\n",
       "    </tr>\n",
       "    <tr>\n",
       "      <th>Date</th>\n",
       "      <th></th>\n",
       "      <th></th>\n",
       "      <th></th>\n",
       "      <th></th>\n",
       "      <th></th>\n",
       "      <th></th>\n",
       "      <th></th>\n",
       "      <th></th>\n",
       "      <th></th>\n",
       "      <th></th>\n",
       "    </tr>\n",
       "  </thead>\n",
       "  <tbody>\n",
       "    <tr>\n",
       "      <th>2016-01-01</th>\n",
       "      <td>116.000000</td>\n",
       "      <td>117.900002</td>\n",
       "      <td>115.500000</td>\n",
       "      <td>117.599998</td>\n",
       "      <td>117.599998</td>\n",
       "      <td>4070369</td>\n",
       "      <td>NaN</td>\n",
       "      <td>NaN</td>\n",
       "      <td>-1</td>\n",
       "      <td>-1</td>\n",
       "    </tr>\n",
       "    <tr>\n",
       "      <th>2016-01-04</th>\n",
       "      <td>117.000000</td>\n",
       "      <td>117.000000</td>\n",
       "      <td>112.500000</td>\n",
       "      <td>112.800003</td>\n",
       "      <td>112.800003</td>\n",
       "      <td>6341172</td>\n",
       "      <td>117.599998</td>\n",
       "      <td>NaN</td>\n",
       "      <td>-1</td>\n",
       "      <td>-1</td>\n",
       "    </tr>\n",
       "    <tr>\n",
       "      <th>2016-01-05</th>\n",
       "      <td>113.000000</td>\n",
       "      <td>113.349998</td>\n",
       "      <td>110.199997</td>\n",
       "      <td>110.599998</td>\n",
       "      <td>110.599998</td>\n",
       "      <td>7271156</td>\n",
       "      <td>112.800003</td>\n",
       "      <td>117.599998</td>\n",
       "      <td>-1</td>\n",
       "      <td>1</td>\n",
       "    </tr>\n",
       "    <tr>\n",
       "      <th>2016-01-06</th>\n",
       "      <td>110.949997</td>\n",
       "      <td>111.800003</td>\n",
       "      <td>109.300003</td>\n",
       "      <td>109.599998</td>\n",
       "      <td>109.599998</td>\n",
       "      <td>5910731</td>\n",
       "      <td>110.599998</td>\n",
       "      <td>112.800003</td>\n",
       "      <td>-1</td>\n",
       "      <td>1</td>\n",
       "    </tr>\n",
       "    <tr>\n",
       "      <th>2016-01-07</th>\n",
       "      <td>108.099998</td>\n",
       "      <td>108.449997</td>\n",
       "      <td>104.500000</td>\n",
       "      <td>105.050003</td>\n",
       "      <td>105.050003</td>\n",
       "      <td>7497260</td>\n",
       "      <td>109.599998</td>\n",
       "      <td>110.599998</td>\n",
       "      <td>-1</td>\n",
       "      <td>1</td>\n",
       "    </tr>\n",
       "  </tbody>\n",
       "</table>\n",
       "</div>"
      ],
      "text/plain": [
       "                  Open        High         Low       Close   Adj Close  \\\n",
       "Date                                                                     \n",
       "2016-01-01  116.000000  117.900002  115.500000  117.599998  117.599998   \n",
       "2016-01-04  117.000000  117.000000  112.500000  112.800003  112.800003   \n",
       "2016-01-05  113.000000  113.349998  110.199997  110.599998  110.599998   \n",
       "2016-01-06  110.949997  111.800003  109.300003  109.599998  109.599998   \n",
       "2016-01-07  108.099998  108.449997  104.500000  105.050003  105.050003   \n",
       "\n",
       "             Volume       Lag 1       Lag 2  Higher High  Lower Low  \n",
       "Date                                                                 \n",
       "2016-01-01  4070369         NaN         NaN           -1         -1  \n",
       "2016-01-04  6341172  117.599998         NaN           -1         -1  \n",
       "2016-01-05  7271156  112.800003  117.599998           -1          1  \n",
       "2016-01-06  5910731  110.599998  112.800003           -1          1  \n",
       "2016-01-07  7497260  109.599998  110.599998           -1          1  "
      ]
     },
     "execution_count": 253,
     "metadata": {},
     "output_type": "execute_result"
    }
   ],
   "source": [
    "PNB.head()"
   ]
  },
  {
   "cell_type": "markdown",
   "metadata": {},
   "source": [
    "Now let's add our $\\large Lag 2^2$ variable."
   ]
  },
  {
   "cell_type": "code",
   "execution_count": 254,
   "metadata": {
    "collapsed": true
   },
   "outputs": [],
   "source": [
    "PNB['Lag 2 Squared']=PNB['Lag 2']**2"
   ]
  },
  {
   "cell_type": "markdown",
   "metadata": {},
   "source": [
    "Let's recheck our dataframe."
   ]
  },
  {
   "cell_type": "code",
   "execution_count": 255,
   "metadata": {},
   "outputs": [
    {
     "data": {
      "text/html": [
       "<div>\n",
       "<style scoped>\n",
       "    .dataframe tbody tr th:only-of-type {\n",
       "        vertical-align: middle;\n",
       "    }\n",
       "\n",
       "    .dataframe tbody tr th {\n",
       "        vertical-align: top;\n",
       "    }\n",
       "\n",
       "    .dataframe thead th {\n",
       "        text-align: right;\n",
       "    }\n",
       "</style>\n",
       "<table border=\"1\" class=\"dataframe\">\n",
       "  <thead>\n",
       "    <tr style=\"text-align: right;\">\n",
       "      <th></th>\n",
       "      <th>Open</th>\n",
       "      <th>High</th>\n",
       "      <th>Low</th>\n",
       "      <th>Close</th>\n",
       "      <th>Adj Close</th>\n",
       "      <th>Volume</th>\n",
       "      <th>Lag 1</th>\n",
       "      <th>Lag 2</th>\n",
       "      <th>Higher High</th>\n",
       "      <th>Lower Low</th>\n",
       "      <th>Lag 2 Squared</th>\n",
       "    </tr>\n",
       "    <tr>\n",
       "      <th>Date</th>\n",
       "      <th></th>\n",
       "      <th></th>\n",
       "      <th></th>\n",
       "      <th></th>\n",
       "      <th></th>\n",
       "      <th></th>\n",
       "      <th></th>\n",
       "      <th></th>\n",
       "      <th></th>\n",
       "      <th></th>\n",
       "      <th></th>\n",
       "    </tr>\n",
       "  </thead>\n",
       "  <tbody>\n",
       "    <tr>\n",
       "      <th>2016-01-01</th>\n",
       "      <td>116.000000</td>\n",
       "      <td>117.900002</td>\n",
       "      <td>115.500000</td>\n",
       "      <td>117.599998</td>\n",
       "      <td>117.599998</td>\n",
       "      <td>4070369</td>\n",
       "      <td>NaN</td>\n",
       "      <td>NaN</td>\n",
       "      <td>-1</td>\n",
       "      <td>-1</td>\n",
       "      <td>NaN</td>\n",
       "    </tr>\n",
       "    <tr>\n",
       "      <th>2016-01-04</th>\n",
       "      <td>117.000000</td>\n",
       "      <td>117.000000</td>\n",
       "      <td>112.500000</td>\n",
       "      <td>112.800003</td>\n",
       "      <td>112.800003</td>\n",
       "      <td>6341172</td>\n",
       "      <td>117.599998</td>\n",
       "      <td>NaN</td>\n",
       "      <td>-1</td>\n",
       "      <td>-1</td>\n",
       "      <td>NaN</td>\n",
       "    </tr>\n",
       "    <tr>\n",
       "      <th>2016-01-05</th>\n",
       "      <td>113.000000</td>\n",
       "      <td>113.349998</td>\n",
       "      <td>110.199997</td>\n",
       "      <td>110.599998</td>\n",
       "      <td>110.599998</td>\n",
       "      <td>7271156</td>\n",
       "      <td>112.800003</td>\n",
       "      <td>117.599998</td>\n",
       "      <td>-1</td>\n",
       "      <td>1</td>\n",
       "      <td>13829.759530</td>\n",
       "    </tr>\n",
       "    <tr>\n",
       "      <th>2016-01-06</th>\n",
       "      <td>110.949997</td>\n",
       "      <td>111.800003</td>\n",
       "      <td>109.300003</td>\n",
       "      <td>109.599998</td>\n",
       "      <td>109.599998</td>\n",
       "      <td>5910731</td>\n",
       "      <td>110.599998</td>\n",
       "      <td>112.800003</td>\n",
       "      <td>-1</td>\n",
       "      <td>1</td>\n",
       "      <td>12723.840677</td>\n",
       "    </tr>\n",
       "    <tr>\n",
       "      <th>2016-01-07</th>\n",
       "      <td>108.099998</td>\n",
       "      <td>108.449997</td>\n",
       "      <td>104.500000</td>\n",
       "      <td>105.050003</td>\n",
       "      <td>105.050003</td>\n",
       "      <td>7497260</td>\n",
       "      <td>109.599998</td>\n",
       "      <td>110.599998</td>\n",
       "      <td>-1</td>\n",
       "      <td>1</td>\n",
       "      <td>12232.359558</td>\n",
       "    </tr>\n",
       "  </tbody>\n",
       "</table>\n",
       "</div>"
      ],
      "text/plain": [
       "                  Open        High         Low       Close   Adj Close  \\\n",
       "Date                                                                     \n",
       "2016-01-01  116.000000  117.900002  115.500000  117.599998  117.599998   \n",
       "2016-01-04  117.000000  117.000000  112.500000  112.800003  112.800003   \n",
       "2016-01-05  113.000000  113.349998  110.199997  110.599998  110.599998   \n",
       "2016-01-06  110.949997  111.800003  109.300003  109.599998  109.599998   \n",
       "2016-01-07  108.099998  108.449997  104.500000  105.050003  105.050003   \n",
       "\n",
       "             Volume       Lag 1       Lag 2  Higher High  Lower Low  \\\n",
       "Date                                                                  \n",
       "2016-01-01  4070369         NaN         NaN           -1         -1   \n",
       "2016-01-04  6341172  117.599998         NaN           -1         -1   \n",
       "2016-01-05  7271156  112.800003  117.599998           -1          1   \n",
       "2016-01-06  5910731  110.599998  112.800003           -1          1   \n",
       "2016-01-07  7497260  109.599998  110.599998           -1          1   \n",
       "\n",
       "            Lag 2 Squared  \n",
       "Date                       \n",
       "2016-01-01            NaN  \n",
       "2016-01-04            NaN  \n",
       "2016-01-05   13829.759530  \n",
       "2016-01-06   12723.840677  \n",
       "2016-01-07   12232.359558  "
      ]
     },
     "execution_count": 255,
     "metadata": {},
     "output_type": "execute_result"
    }
   ],
   "source": [
    "PNB.head()"
   ]
  },
  {
   "cell_type": "markdown",
   "metadata": {},
   "source": [
    "Okay now let's rebuild our model and see if we were able to reduce our MSE."
   ]
  },
  {
   "cell_type": "code",
   "execution_count": 152,
   "metadata": {
    "collapsed": true
   },
   "outputs": [],
   "source": [
    "polynomial_model=LinearRegression()"
   ]
  },
  {
   "cell_type": "markdown",
   "metadata": {},
   "source": [
    "We can now set our X and y variables."
   ]
  },
  {
   "cell_type": "code",
   "execution_count": 256,
   "metadata": {},
   "outputs": [],
   "source": [
    "#dropping all columns except our features and storing in X\n",
    "X_2=PNB.drop(['Open','High','Low','Close','Adj Close','Volume','Lag 2'],axis=1)\n",
    "\n",
    "#Initializing our Response \n",
    "y_2=PNB['Close']"
   ]
  },
  {
   "cell_type": "markdown",
   "metadata": {},
   "source": [
    "We can now do our train test split."
   ]
  },
  {
   "cell_type": "code",
   "execution_count": 257,
   "metadata": {
    "collapsed": true
   },
   "outputs": [],
   "source": [
    "X_train_2, X_test_2, y_train_2, y_test_2=train_test_split(X_2,y_2,test_size=0.2,random_state=101)"
   ]
  },
  {
   "cell_type": "markdown",
   "metadata": {},
   "source": [
    "Now that we have our training and testing data, we can use it to fit our model and generate predictions."
   ]
  },
  {
   "cell_type": "code",
   "execution_count": 258,
   "metadata": {},
   "outputs": [
    {
     "data": {
      "text/plain": [
       "LinearRegression(copy_X=True, fit_intercept=True, n_jobs=1, normalize=False)"
      ]
     },
     "execution_count": 258,
     "metadata": {},
     "output_type": "execute_result"
    }
   ],
   "source": [
    "#fitting our model\n",
    "polynomial_model.fit(X_train_2.fillna(0),y_train_2)"
   ]
  },
  {
   "cell_type": "markdown",
   "metadata": {},
   "source": [
    "We've just fitted our polynomial_model to our training data. Now let's use it to make predictions using our testing data."
   ]
  },
  {
   "cell_type": "code",
   "execution_count": 259,
   "metadata": {
    "collapsed": true
   },
   "outputs": [],
   "source": [
    "predictions_2=polynomial_model.predict(X_test_2)"
   ]
  },
  {
   "cell_type": "markdown",
   "metadata": {},
   "source": [
    "We've just made our predictions. We can now calculate our coefficients, residuals, and our errors. Let's start by creating a dataframe to hold the coefficients from our polynomial model."
   ]
  },
  {
   "cell_type": "code",
   "execution_count": 260,
   "metadata": {},
   "outputs": [],
   "source": [
    "polynomial_df=pd.DataFrame(polynomial_model.coef_,index=X_train_2.columns,columns=['Polynomial Coefficients'])"
   ]
  },
  {
   "cell_type": "markdown",
   "metadata": {},
   "source": [
    "Now let's view our polynomial df."
   ]
  },
  {
   "cell_type": "code",
   "execution_count": 261,
   "metadata": {},
   "outputs": [
    {
     "data": {
      "text/html": [
       "<div>\n",
       "<style scoped>\n",
       "    .dataframe tbody tr th:only-of-type {\n",
       "        vertical-align: middle;\n",
       "    }\n",
       "\n",
       "    .dataframe tbody tr th {\n",
       "        vertical-align: top;\n",
       "    }\n",
       "\n",
       "    .dataframe thead th {\n",
       "        text-align: right;\n",
       "    }\n",
       "</style>\n",
       "<table border=\"1\" class=\"dataframe\">\n",
       "  <thead>\n",
       "    <tr style=\"text-align: right;\">\n",
       "      <th></th>\n",
       "      <th>Polynomial Coefficients</th>\n",
       "    </tr>\n",
       "  </thead>\n",
       "  <tbody>\n",
       "    <tr>\n",
       "      <th>Lag 1</th>\n",
       "      <td>0.755424</td>\n",
       "    </tr>\n",
       "    <tr>\n",
       "      <th>Higher High</th>\n",
       "      <td>-0.123632</td>\n",
       "    </tr>\n",
       "    <tr>\n",
       "      <th>Lower Low</th>\n",
       "      <td>-0.867990</td>\n",
       "    </tr>\n",
       "    <tr>\n",
       "      <th>Lag 2 Squared</th>\n",
       "      <td>0.000784</td>\n",
       "    </tr>\n",
       "  </tbody>\n",
       "</table>\n",
       "</div>"
      ],
      "text/plain": [
       "               Polynomial Coefficients\n",
       "Lag 1                         0.755424\n",
       "Higher High                  -0.123632\n",
       "Lower Low                    -0.867990\n",
       "Lag 2 Squared                 0.000784"
      ]
     },
     "execution_count": 261,
     "metadata": {},
     "output_type": "execute_result"
    }
   ],
   "source": [
    "polynomial_df.head()"
   ]
  },
  {
   "cell_type": "markdown",
   "metadata": {},
   "source": [
    "Now let's create our residuals and plot them. Then we will recalculate our models' metrics."
   ]
  },
  {
   "cell_type": "code",
   "execution_count": 262,
   "metadata": {
    "collapsed": true
   },
   "outputs": [],
   "source": [
    "residuals_2=y_test_2-predictions_2"
   ]
  },
  {
   "cell_type": "markdown",
   "metadata": {},
   "source": [
    "Now that we have our residuals, we can recreate our histogram."
   ]
  },
  {
   "cell_type": "code",
   "execution_count": 263,
   "metadata": {},
   "outputs": [
    {
     "data": {
      "text/plain": [
       "<matplotlib.axes._subplots.AxesSubplot at 0x1f4108d98d0>"
      ]
     },
     "execution_count": 263,
     "metadata": {},
     "output_type": "execute_result"
    },
    {
     "data": {
      "image/png": "[encoded data removed]",
      "text/plain": [
       "<matplotlib.figure.Figure at 0x1f410911198>"
      ]
     },
     "metadata": {},
     "output_type": "display_data"
    }
   ],
   "source": [
    "sns.distplot(residuals_2,bins=100)"
   ]
  },
  {
   "cell_type": "markdown",
   "metadata": {},
   "source": [
    "Let's now calculate our MSE, MAE, RMSE and our R-Squared."
   ]
  },
  {
   "cell_type": "markdown",
   "metadata": {},
   "source": [
    "Recall that in order to calculate our R-Squared we use the explained variance score in sklearn."
   ]
  },
  {
   "cell_type": "code",
   "execution_count": 264,
   "metadata": {},
   "outputs": [],
   "source": [
    "R_Squared_2=metrics.explained_variance_score(y_test_2,predictions_2)"
   ]
  },
  {
   "cell_type": "code",
   "execution_count": 265,
   "metadata": {},
   "outputs": [
    {
     "name": "stdout",
     "output_type": "stream",
     "text": [
      "Polynomial Model R-Squared: 0.984377200815\n"
     ]
    }
   ],
   "source": [
    "#printing the R-Squared of our polynomial model\n",
    "print('Polynomial Model R-Squared:',R_Squared_2)"
   ]
  },
  {
   "cell_type": "markdown",
   "metadata": {},
   "source": [
    "Now let's calculate our errors."
   ]
  },
  {
   "cell_type": "code",
   "execution_count": 266,
   "metadata": {},
   "outputs": [
    {
     "name": "stdout",
     "output_type": "stream",
     "text": [
      "Polynomial MSE: 13.9892317617\n",
      "Polynomial MAE: 2.90646534943\n",
      "Polynomial RMSE: 3.74021814359\n"
     ]
    }
   ],
   "source": [
    "#Calculating MSE\n",
    "MSE_2=metrics.mean_squared_error(y_test_2,predictions_2)\n",
    "#Calculating MAE\n",
    "MAE_2=metrics.mean_absolute_error(y_test_2,predictions_2)\n",
    "#Calculating RMSE\n",
    "RMSE_2=np.sqrt(MSE_2)\n",
    "\n",
    "#Printing out Errors\n",
    "print('Polynomial MSE:',MSE_2)\n",
    "print('Polynomial MAE:', MAE_2)\n",
    "print('Polynomial RMSE:',RMSE_2)"
   ]
  },
  {
   "cell_type": "markdown",
   "metadata": {},
   "source": [
    "Okay. We can see that we have achieved our objective of further reducing our errors and have also improved our R-Squared.\n"
   ]
  },
  {
   "cell_type": "markdown",
   "metadata": {},
   "source": [
    "Let's now write our polynomial equation for PNB."
   ]
  },
  {
   "cell_type": "markdown",
   "metadata": {},
   "source": [
    "$$\\large  y={(0.000784)(X_2){^2} + (0.755424)(X_1) + (-0.123632)(X_3) + (-0.867990)(X_4) + 18.15} $$"
   ]
  },
  {
   "cell_type": "markdown",
   "metadata": {},
   "source": [
    "# Okay. Let's Review"
   ]
  },
  {
   "cell_type": "markdown",
   "metadata": {},
   "source": [
    "We started by getting an understanding of Linear Regression and what happens under the hood when we create a model. We learned some of the computations that take place and then collected data for PNB. We built a linear model to predict the closing price of PNB. We used Lag 1 and Lag 2, Higher High, and Lower Low as predictors for our model. After building our model we were able to use the .coef_ and .intercept_ methods to get our coefficients and create our linear equation."
   ]
  },
  {
   "cell_type": "markdown",
   "metadata": {},
   "source": [
    "Plotting our residuals showed that our data was not linear, and linearity is a major assumption of our model. We decided to transform our linear equation into a basic polynomial equation to account for the non-linearity in our data in an effort to see if we could improve our MSE."
   ]
  },
  {
   "cell_type": "markdown",
   "metadata": {},
   "source": [
    "After doing some exploratory data analysis on our first model, we decided to transform our Lag 2 variable due to the deviation between it and the Lag 1's coefficients. Could this variable have given us an early indication of the non-linear nature of our data?"
   ]
  },
  {
   "cell_type": "markdown",
   "metadata": {},
   "source": [
    "After building our first model, we received an R-Squared of .984144, a MSE of 14.273, a MAE of 2.81, and a RMSE of 3.78. After fitting our polynomial model our R-Squared improved to .984377, our MSE improved to 10.451, our MAE increased to 2.90 and our RMSE improved to 3.74."
   ]
  },
  {
   "cell_type": "markdown",
   "metadata": {},
   "source": [
    "These results showed that our polynomial regression model had some merit in addressing the non-linear nature of our data. There are other considerations and other models that can address non-linearity. This post introduced one method. There are considerations such as the degrees of the polynomial model(i.e. how many transforms you do) that will affect the model's bias-variance tradeoff. Essentially, the more flexible a model is, the more likely it is to have low bias but high variance. The more inflexible the model, the more likley it is to have high bias and low variance. We want a model somewhere in between ideally with low bias and low variance. As we transform our equation, we make it more flexible. This allows us to better fit our data when it is non-linear but if we do to many transformations, we will overfit our data and our model will have high variance, or in other words only work on our training data."
   ]
  }
 ],
 "metadata": {
  "kernelspec": {
   "display_name": "Python [conda env:Anaconda3]",
   "language": "python",
   "name": "conda-env-Anaconda3-py"
  },
  "language_info": {
   "codemirror_mode": {
    "name": "ipython",
    "version": 3
   },
   "file_extension": ".py",
   "mimetype": "text/x-python",
   "name": "python",
   "nbconvert_exporter": "python",
   "pygments_lexer": "ipython3",
   "version": "3.5.5"
  }
 },
 "nbformat": 4,
 "nbformat_minor": 2
}
